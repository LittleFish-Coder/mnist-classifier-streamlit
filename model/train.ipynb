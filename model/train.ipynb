{
 "cells": [
  {
   "cell_type": "code",
   "execution_count": 1,
   "metadata": {},
   "outputs": [],
   "source": [
    "# import packages\n",
    "import numpy as np\n",
    "import matplotlib.pyplot as plt\n",
    "import torch\n",
    "import torch.nn as nn\n",
    "import torch.optim as optim\n",
    "import torch.nn.functional as F\n",
    "from torch.utils.data import DataLoader, Dataset\n",
    "from torchvision import datasets, transforms\n",
    "from tqdm import tqdm"
   ]
  },
  {
   "cell_type": "code",
   "execution_count": 23,
   "metadata": {},
   "outputs": [
    {
     "data": {
      "text/plain": [
       "<torch._C.Generator at 0x11ea65690>"
      ]
     },
     "execution_count": 23,
     "metadata": {},
     "output_type": "execute_result"
    }
   ],
   "source": [
    "# set the random seed\n",
    "np.random.seed(2)\n",
    "torch.manual_seed(2)"
   ]
  },
  {
   "cell_type": "code",
   "execution_count": 24,
   "metadata": {},
   "outputs": [],
   "source": [
    "# check if CUDA is available\n",
    "device = torch.device('cuda' if torch.cuda.is_available() else 'cpu')"
   ]
  },
  {
   "cell_type": "code",
   "execution_count": 25,
   "metadata": {},
   "outputs": [],
   "source": [
    "# hyperparameters\n",
    "learning_rate = 0.0001\n",
    "batch_size = 128\n",
    "num_epochs = 30\n",
    "num_classes = 10"
   ]
  },
  {
   "cell_type": "code",
   "execution_count": 26,
   "metadata": {},
   "outputs": [],
   "source": [
    "# define transforms for the data\n",
    "transform = transforms.Compose(\n",
    "    [\n",
    "        transforms.ToTensor(),\n",
    "        transforms.Normalize((0.1307,), (0.3081,)),\n",
    "    ]\n",
    ")"
   ]
  },
  {
   "cell_type": "code",
   "execution_count": 27,
   "metadata": {},
   "outputs": [],
   "source": [
    "# download the dataset\n",
    "train_data = datasets.MNIST(root='./data', train=True, transform=transform, download=True)\n",
    "val_data = datasets.MNIST(root='./data', train=False, transform=transform, download=True)\n",
    "\n",
    "# create the dataloader\n",
    "train_loader = DataLoader(dataset=train_data, batch_size=batch_size, shuffle=True)\n",
    "val_loader = DataLoader(dataset=val_data, batch_size=batch_size, shuffle=False)"
   ]
  },
  {
   "cell_type": "code",
   "execution_count": 28,
   "metadata": {},
   "outputs": [],
   "source": [
    "# create the CNN model\n",
    "class Model(nn.Module):\n",
    "    def __init__(self):\n",
    "        super(Model, self).__init__()\n",
    "        self.conv1 = nn.Conv2d(1, 32, kernel_size=3, stride=1, padding=1)\n",
    "        self.conv2 = nn.Conv2d(32, 64, kernel_size=3, stride=1, padding=1)\n",
    "        self.fc1 = nn.Linear(64*7*7, 128)\n",
    "        self.fc2 = nn.Linear(128, 10)\n",
    "        self.dropout = nn.Dropout(0.5)\n",
    "        self.maxpool = nn.MaxPool2d(kernel_size=2, stride=2)\n",
    "        self.relu = nn.ReLU()\n",
    "        self.softmax = nn.Softmax(dim=1)\n",
    "    \n",
    "    def forward(self, x):\n",
    "        x = self.relu(self.conv1(x))\n",
    "        x = self.maxpool(x)\n",
    "        x = self.relu(self.conv2(x))\n",
    "        x = self.maxpool(x)\n",
    "        x = x.view(-1, 64*7*7)\n",
    "        x = self.relu(self.fc1(x))\n",
    "        x = self.dropout(x)\n",
    "        x = self.fc2(x)\n",
    "        return self.softmax(x)\n",
    "        "
   ]
  },
  {
   "cell_type": "code",
   "execution_count": 29,
   "metadata": {},
   "outputs": [],
   "source": [
    "# create the model\n",
    "model = Model().to(device)\n",
    "# loss and optimizer\n",
    "criterion = nn.CrossEntropyLoss()\n",
    "optimizer = optim.Adam(model.parameters(), lr=learning_rate)"
   ]
  },
  {
   "cell_type": "code",
   "execution_count": 30,
   "metadata": {},
   "outputs": [
    {
     "name": "stdout",
     "output_type": "stream",
     "text": [
      "\n",
      "Epoch  1/30\n"
     ]
    },
    {
     "name": "stderr",
     "output_type": "stream",
     "text": [
      "100%|██████████| 469/469 [00:24<00:00, 19.18it/s]\n",
      "100%|██████████| 79/79 [00:01<00:00, 55.11it/s]\n"
     ]
    },
    {
     "name": "stdout",
     "output_type": "stream",
     "text": [
      "Epoch  1 | Train Loss: 1.7739 | Train Acc: 0.7378 | Val Loss: 1.5472 | Val Acc: 0.9289\n",
      "\n",
      "Epoch  2/30\n"
     ]
    },
    {
     "name": "stderr",
     "output_type": "stream",
     "text": [
      "100%|██████████| 469/469 [00:24<00:00, 19.43it/s]\n",
      "100%|██████████| 79/79 [00:01<00:00, 54.59it/s]\n"
     ]
    },
    {
     "name": "stdout",
     "output_type": "stream",
     "text": [
      "Epoch  2 | Train Loss: 1.5620 | Train Acc: 0.9145 | Val Loss: 1.5134 | Val Acc: 0.9528\n",
      "\n",
      "Epoch  3/30\n"
     ]
    },
    {
     "name": "stderr",
     "output_type": "stream",
     "text": [
      "100%|██████████| 469/469 [00:24<00:00, 19.14it/s]\n",
      "100%|██████████| 79/79 [00:01<00:00, 54.22it/s]\n"
     ]
    },
    {
     "name": "stdout",
     "output_type": "stream",
     "text": [
      "Epoch  3 | Train Loss: 1.5302 | Train Acc: 0.9414 | Val Loss: 1.4990 | Val Acc: 0.9670\n",
      "\n",
      "Epoch  4/30\n"
     ]
    },
    {
     "name": "stderr",
     "output_type": "stream",
     "text": [
      "100%|██████████| 469/469 [00:24<00:00, 19.51it/s]\n",
      "100%|██████████| 79/79 [00:01<00:00, 54.88it/s]\n"
     ]
    },
    {
     "name": "stdout",
     "output_type": "stream",
     "text": [
      "Epoch  4 | Train Loss: 1.5149 | Train Acc: 0.9542 | Val Loss: 1.4913 | Val Acc: 0.9728\n",
      "\n",
      "Epoch  5/30\n"
     ]
    },
    {
     "name": "stderr",
     "output_type": "stream",
     "text": [
      "100%|██████████| 469/469 [00:23<00:00, 19.85it/s]\n",
      "100%|██████████| 79/79 [00:01<00:00, 54.74it/s]\n"
     ]
    },
    {
     "name": "stdout",
     "output_type": "stream",
     "text": [
      "Epoch  5 | Train Loss: 1.5066 | Train Acc: 0.9611 | Val Loss: 1.4881 | Val Acc: 0.9762\n",
      "\n",
      "Epoch  6/30\n"
     ]
    },
    {
     "name": "stderr",
     "output_type": "stream",
     "text": [
      "100%|██████████| 469/469 [00:23<00:00, 19.80it/s]\n",
      "100%|██████████| 79/79 [00:01<00:00, 54.93it/s]\n"
     ]
    },
    {
     "name": "stdout",
     "output_type": "stream",
     "text": [
      "Epoch  6 | Train Loss: 1.5010 | Train Acc: 0.9649 | Val Loss: 1.4854 | Val Acc: 0.9775\n",
      "\n",
      "Epoch  7/30\n"
     ]
    },
    {
     "name": "stderr",
     "output_type": "stream",
     "text": [
      "100%|██████████| 469/469 [00:23<00:00, 19.74it/s]\n",
      "100%|██████████| 79/79 [00:01<00:00, 53.27it/s]\n"
     ]
    },
    {
     "name": "stdout",
     "output_type": "stream",
     "text": [
      "Epoch  7 | Train Loss: 1.4980 | Train Acc: 0.9677 | Val Loss: 1.4835 | Val Acc: 0.9799\n",
      "\n",
      "Epoch  8/30\n"
     ]
    },
    {
     "name": "stderr",
     "output_type": "stream",
     "text": [
      "100%|██████████| 469/469 [00:23<00:00, 19.70it/s]\n",
      "100%|██████████| 79/79 [00:01<00:00, 54.97it/s]\n"
     ]
    },
    {
     "name": "stdout",
     "output_type": "stream",
     "text": [
      "Epoch  8 | Train Loss: 1.4943 | Train Acc: 0.9706 | Val Loss: 1.4818 | Val Acc: 0.9815\n",
      "\n",
      "Epoch  9/30\n"
     ]
    },
    {
     "name": "stderr",
     "output_type": "stream",
     "text": [
      "100%|██████████| 469/469 [00:24<00:00, 19.39it/s]\n",
      "100%|██████████| 79/79 [00:01<00:00, 53.28it/s]\n"
     ]
    },
    {
     "name": "stdout",
     "output_type": "stream",
     "text": [
      "Epoch  9 | Train Loss: 1.4916 | Train Acc: 0.9733 | Val Loss: 1.4801 | Val Acc: 0.9818\n",
      "\n",
      "Epoch 10/30\n"
     ]
    },
    {
     "name": "stderr",
     "output_type": "stream",
     "text": [
      "100%|██████████| 469/469 [00:24<00:00, 19.25it/s]\n",
      "100%|██████████| 79/79 [00:01<00:00, 55.00it/s]\n"
     ]
    },
    {
     "name": "stdout",
     "output_type": "stream",
     "text": [
      "Epoch 10 | Train Loss: 1.4894 | Train Acc: 0.9747 | Val Loss: 1.4799 | Val Acc: 0.9825\n",
      "\n",
      "Epoch 11/30\n"
     ]
    },
    {
     "name": "stderr",
     "output_type": "stream",
     "text": [
      "100%|██████████| 469/469 [00:23<00:00, 20.13it/s]\n",
      "100%|██████████| 79/79 [00:01<00:00, 54.81it/s]\n"
     ]
    },
    {
     "name": "stdout",
     "output_type": "stream",
     "text": [
      "Epoch 11 | Train Loss: 1.4885 | Train Acc: 0.9755 | Val Loss: 1.4780 | Val Acc: 0.9843\n",
      "\n",
      "Epoch 12/30\n"
     ]
    },
    {
     "name": "stderr",
     "output_type": "stream",
     "text": [
      "100%|██████████| 469/469 [00:23<00:00, 20.22it/s]\n",
      "100%|██████████| 79/79 [00:01<00:00, 54.05it/s]\n"
     ]
    },
    {
     "name": "stdout",
     "output_type": "stream",
     "text": [
      "Epoch 12 | Train Loss: 1.4870 | Train Acc: 0.9769 | Val Loss: 1.4772 | Val Acc: 0.9848\n",
      "\n",
      "Epoch 13/30\n"
     ]
    },
    {
     "name": "stderr",
     "output_type": "stream",
     "text": [
      "100%|██████████| 469/469 [00:23<00:00, 20.21it/s]\n",
      "100%|██████████| 79/79 [00:01<00:00, 54.97it/s]\n"
     ]
    },
    {
     "name": "stdout",
     "output_type": "stream",
     "text": [
      "Epoch 13 | Train Loss: 1.4850 | Train Acc: 0.9785 | Val Loss: 1.4762 | Val Acc: 0.9856\n",
      "\n",
      "Epoch 14/30\n"
     ]
    },
    {
     "name": "stderr",
     "output_type": "stream",
     "text": [
      "100%|██████████| 469/469 [00:23<00:00, 20.17it/s]\n",
      "100%|██████████| 79/79 [00:01<00:00, 55.43it/s]\n"
     ]
    },
    {
     "name": "stdout",
     "output_type": "stream",
     "text": [
      "Epoch 14 | Train Loss: 1.4842 | Train Acc: 0.9796 | Val Loss: 1.4758 | Val Acc: 0.9858\n",
      "\n",
      "Epoch 15/30\n"
     ]
    },
    {
     "name": "stderr",
     "output_type": "stream",
     "text": [
      "100%|██████████| 469/469 [00:24<00:00, 19.26it/s]\n",
      "100%|██████████| 79/79 [00:01<00:00, 53.55it/s]\n"
     ]
    },
    {
     "name": "stdout",
     "output_type": "stream",
     "text": [
      "Epoch 15 | Train Loss: 1.4829 | Train Acc: 0.9807 | Val Loss: 1.4766 | Val Acc: 0.9852\n",
      "\n",
      "Epoch 16/30\n"
     ]
    },
    {
     "name": "stderr",
     "output_type": "stream",
     "text": [
      "100%|██████████| 469/469 [00:24<00:00, 19.21it/s]\n",
      "100%|██████████| 79/79 [00:01<00:00, 42.67it/s]\n"
     ]
    },
    {
     "name": "stdout",
     "output_type": "stream",
     "text": [
      "Epoch 16 | Train Loss: 1.4828 | Train Acc: 0.9806 | Val Loss: 1.4755 | Val Acc: 0.9860\n",
      "\n",
      "Epoch 17/30\n"
     ]
    },
    {
     "name": "stderr",
     "output_type": "stream",
     "text": [
      "100%|██████████| 469/469 [00:25<00:00, 18.31it/s]\n",
      "100%|██████████| 79/79 [00:01<00:00, 52.71it/s]\n"
     ]
    },
    {
     "name": "stdout",
     "output_type": "stream",
     "text": [
      "Epoch 17 | Train Loss: 1.4817 | Train Acc: 0.9818 | Val Loss: 1.4744 | Val Acc: 0.9872\n",
      "\n",
      "Epoch 18/30\n"
     ]
    },
    {
     "name": "stderr",
     "output_type": "stream",
     "text": [
      "100%|██████████| 469/469 [00:25<00:00, 18.32it/s]\n",
      "100%|██████████| 79/79 [00:01<00:00, 50.39it/s]\n"
     ]
    },
    {
     "name": "stdout",
     "output_type": "stream",
     "text": [
      "Epoch 18 | Train Loss: 1.4808 | Train Acc: 0.9822 | Val Loss: 1.4745 | Val Acc: 0.9869\n",
      "\n",
      "Epoch 19/30\n"
     ]
    },
    {
     "name": "stderr",
     "output_type": "stream",
     "text": [
      "100%|██████████| 469/469 [00:29<00:00, 15.81it/s]\n",
      "100%|██████████| 79/79 [00:02<00:00, 39.14it/s]\n"
     ]
    },
    {
     "name": "stdout",
     "output_type": "stream",
     "text": [
      "Epoch 19 | Train Loss: 1.4805 | Train Acc: 0.9828 | Val Loss: 1.4734 | Val Acc: 0.9886\n",
      "\n",
      "Epoch 20/30\n"
     ]
    },
    {
     "name": "stderr",
     "output_type": "stream",
     "text": [
      "100%|██████████| 469/469 [00:26<00:00, 17.86it/s]\n",
      "100%|██████████| 79/79 [00:02<00:00, 30.57it/s]\n"
     ]
    },
    {
     "name": "stdout",
     "output_type": "stream",
     "text": [
      "Epoch 20 | Train Loss: 1.4790 | Train Acc: 0.9840 | Val Loss: 1.4746 | Val Acc: 0.9870\n",
      "\n",
      "Epoch 21/30\n"
     ]
    },
    {
     "name": "stderr",
     "output_type": "stream",
     "text": [
      "100%|██████████| 469/469 [00:29<00:00, 15.93it/s]\n",
      "100%|██████████| 79/79 [00:01<00:00, 49.17it/s]\n"
     ]
    },
    {
     "name": "stdout",
     "output_type": "stream",
     "text": [
      "Epoch 21 | Train Loss: 1.4786 | Train Acc: 0.9844 | Val Loss: 1.4732 | Val Acc: 0.9888\n",
      "\n",
      "Epoch 22/30\n"
     ]
    },
    {
     "name": "stderr",
     "output_type": "stream",
     "text": [
      "100%|██████████| 469/469 [00:27<00:00, 17.23it/s]\n",
      "100%|██████████| 79/79 [00:01<00:00, 39.66it/s]\n"
     ]
    },
    {
     "name": "stdout",
     "output_type": "stream",
     "text": [
      "Epoch 22 | Train Loss: 1.4786 | Train Acc: 0.9845 | Val Loss: 1.4735 | Val Acc: 0.9884\n",
      "\n",
      "Epoch 23/30\n"
     ]
    },
    {
     "name": "stderr",
     "output_type": "stream",
     "text": [
      "100%|██████████| 469/469 [00:26<00:00, 17.67it/s]\n",
      "100%|██████████| 79/79 [00:01<00:00, 47.65it/s]\n"
     ]
    },
    {
     "name": "stdout",
     "output_type": "stream",
     "text": [
      "Epoch 23 | Train Loss: 1.4775 | Train Acc: 0.9853 | Val Loss: 1.4729 | Val Acc: 0.9887\n",
      "\n",
      "Epoch 24/30\n"
     ]
    },
    {
     "name": "stderr",
     "output_type": "stream",
     "text": [
      "100%|██████████| 469/469 [00:25<00:00, 18.16it/s]\n",
      "100%|██████████| 79/79 [00:01<00:00, 50.16it/s]\n"
     ]
    },
    {
     "name": "stdout",
     "output_type": "stream",
     "text": [
      "Epoch 24 | Train Loss: 1.4770 | Train Acc: 0.9856 | Val Loss: 1.4731 | Val Acc: 0.9885\n",
      "\n",
      "Epoch 25/30\n"
     ]
    },
    {
     "name": "stderr",
     "output_type": "stream",
     "text": [
      "100%|██████████| 469/469 [00:27<00:00, 17.11it/s]\n",
      "100%|██████████| 79/79 [00:01<00:00, 49.74it/s]\n"
     ]
    },
    {
     "name": "stdout",
     "output_type": "stream",
     "text": [
      "Epoch 25 | Train Loss: 1.4766 | Train Acc: 0.9860 | Val Loss: 1.4734 | Val Acc: 0.9881\n",
      "\n",
      "Epoch 26/30\n"
     ]
    },
    {
     "name": "stderr",
     "output_type": "stream",
     "text": [
      "100%|██████████| 469/469 [00:26<00:00, 17.99it/s]\n",
      "100%|██████████| 79/79 [00:01<00:00, 49.61it/s]\n"
     ]
    },
    {
     "name": "stdout",
     "output_type": "stream",
     "text": [
      "Epoch 26 | Train Loss: 1.4763 | Train Acc: 0.9864 | Val Loss: 1.4726 | Val Acc: 0.9893\n",
      "\n",
      "Epoch 27/30\n"
     ]
    },
    {
     "name": "stderr",
     "output_type": "stream",
     "text": [
      "100%|██████████| 469/469 [00:25<00:00, 18.49it/s]\n",
      "100%|██████████| 79/79 [00:01<00:00, 47.03it/s]\n"
     ]
    },
    {
     "name": "stdout",
     "output_type": "stream",
     "text": [
      "Epoch 27 | Train Loss: 1.4763 | Train Acc: 0.9863 | Val Loss: 1.4727 | Val Acc: 0.9887\n",
      "\n",
      "Epoch 28/30\n"
     ]
    },
    {
     "name": "stderr",
     "output_type": "stream",
     "text": [
      "100%|██████████| 469/469 [00:26<00:00, 17.56it/s]\n",
      "100%|██████████| 79/79 [00:01<00:00, 50.16it/s]\n"
     ]
    },
    {
     "name": "stdout",
     "output_type": "stream",
     "text": [
      "Epoch 28 | Train Loss: 1.4754 | Train Acc: 0.9871 | Val Loss: 1.4726 | Val Acc: 0.9886\n",
      "\n",
      "Epoch 29/30\n"
     ]
    },
    {
     "name": "stderr",
     "output_type": "stream",
     "text": [
      "100%|██████████| 469/469 [00:26<00:00, 17.75it/s]\n",
      "100%|██████████| 79/79 [00:01<00:00, 48.41it/s]\n"
     ]
    },
    {
     "name": "stdout",
     "output_type": "stream",
     "text": [
      "Epoch 29 | Train Loss: 1.4751 | Train Acc: 0.9874 | Val Loss: 1.4718 | Val Acc: 0.9894\n",
      "\n",
      "Epoch 30/30\n"
     ]
    },
    {
     "name": "stderr",
     "output_type": "stream",
     "text": [
      "100%|██████████| 469/469 [00:25<00:00, 18.39it/s]\n",
      "100%|██████████| 79/79 [00:01<00:00, 50.47it/s]"
     ]
    },
    {
     "name": "stdout",
     "output_type": "stream",
     "text": [
      "Epoch 30 | Train Loss: 1.4748 | Train Acc: 0.9877 | Val Loss: 1.4714 | Val Acc: 0.9901\n"
     ]
    },
    {
     "name": "stderr",
     "output_type": "stream",
     "text": [
      "\n"
     ]
    }
   ],
   "source": [
    "# record the loss and accuracy\n",
    "train_acc, val_acc = [], []\n",
    "train_loss, val_loss = [], []\n",
    "\n",
    "# train and validate the model\n",
    "for epoch in range(num_epochs):\n",
    "    print(f\"\\nEpoch {epoch+1:2d}/{num_epochs:2d}\")\n",
    "    model.train()\n",
    "    running_loss, running_acc = 0.0, 0.0\n",
    "    for (images, labels) in tqdm(train_loader):\n",
    "        images = images.to(device)\n",
    "        labels = labels.to(device)\n",
    "\n",
    "        # forward pass\n",
    "        outputs = model(images)\n",
    "        loss = criterion(outputs, labels)\n",
    "\n",
    "        # backward pass\n",
    "        optimizer.zero_grad()\n",
    "        loss.backward()\n",
    "        optimizer.step()\n",
    "\n",
    "        # calculate the running loss and accuracy\n",
    "        running_loss += loss.item()\n",
    "        _, preds = torch.max(outputs, 1)\n",
    "        running_acc += torch.sum(preds == labels.data).item()\n",
    "\n",
    "    # calculate the accuracy and loss\n",
    "    epoch_loss = running_loss / len(train_loader)\n",
    "    epoch_acc = running_acc / len(train_data)\n",
    "    train_loss.append(epoch_loss)\n",
    "    train_acc.append(epoch_acc)\n",
    "\n",
    "    # validate the model\n",
    "    model.eval()\n",
    "    running_loss, running_acc = 0.0, 0.0\n",
    "    with torch.no_grad():\n",
    "        for (images, labels) in tqdm(val_loader):\n",
    "            images = images.to(device)\n",
    "            labels = labels.to(device)\n",
    "\n",
    "            # forward pass\n",
    "            outputs = model(images)\n",
    "            loss = criterion(outputs, labels)\n",
    "\n",
    "            # calculate the running loss and accuracy\n",
    "            running_loss += loss.item()\n",
    "            _, preds = torch.max(outputs, 1)\n",
    "            running_acc += torch.sum(preds == labels.data).item()\n",
    "\n",
    "    # calculate the accuracy and loss\n",
    "    epoch_loss = running_loss / len(val_loader)\n",
    "    epoch_acc = running_acc / len(val_data)\n",
    "    val_loss.append(epoch_loss)\n",
    "    val_acc.append(epoch_acc)\n",
    "\n",
    "    print(\n",
    "        f\"Epoch {epoch+1:2d} | Train Loss: {train_loss[-1]:.4f} | Train Acc: {train_acc[-1]:.4f} | Val Loss: {val_loss[-1]:.4f} | Val Acc: {val_acc[-1]:.4f}\"\n",
    "    )"
   ]
  },
  {
   "cell_type": "code",
   "execution_count": 31,
   "metadata": {},
   "outputs": [
    {
     "data": {
      "image/png": "[encoded data removed]",
      "text/plain": [
       "<Figure size 640x480 with 2 Axes>"
      ]
     },
     "metadata": {},
     "output_type": "display_data"
    }
   ],
   "source": [
    "# plot loss and accuracy\n",
    "plt.figure()\n",
    "# loss\n",
    "plt.subplot(2,1,1)\n",
    "plt.plot(train_loss, label='train loss')\n",
    "plt.plot(val_loss, label='val loss')\n",
    "plt.legend()\n",
    "plt.xlabel('Epochs')\n",
    "plt.ylabel('Loss')\n",
    "plt.title('Loss')\n",
    "# accuracy\n",
    "plt.subplot(2,1,2)\n",
    "plt.plot(train_acc, label='train acc')\n",
    "plt.plot(val_acc, label='val acc')\n",
    "plt.legend()\n",
    "plt.xlabel('Epochs')\n",
    "plt.ylabel('Accuracy')\n",
    "plt.title('Accuracy')\n",
    "# save figure\n",
    "plt.tight_layout()\n",
    "plt.savefig('mnist.png')\n",
    "plt.show()"
   ]
  },
  {
   "cell_type": "code",
   "execution_count": 34,
   "metadata": {},
   "outputs": [],
   "source": [
    "# save the model\n",
    "torch.save(model.state_dict(), 'mnist.pth')"
   ]
  }
 ],
 "metadata": {
  "kernelspec": {
   "display_name": "mnist",
   "language": "python",
   "name": "python3"
  },
  "language_info": {
   "codemirror_mode": {
    "name": "ipython",
    "version": 3
   },
   "file_extension": ".py",
   "mimetype": "text/x-python",
   "name": "python",
   "nbconvert_exporter": "python",
   "pygments_lexer": "ipython3",
   "version": "3.10.12"
  }
 },
 "nbformat": 4,
 "nbformat_minor": 2
}
